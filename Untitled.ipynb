{
 "cells": [
  {
   "cell_type": "code",
   "execution_count": 6,
   "id": "2048b10d",
   "metadata": {},
   "outputs": [
    {
     "name": "stdout",
     "output_type": "stream",
     "text": [
      "track    : Players\n",
      "audio    : N/A\n",
      "cover art: https://i.scdn.co/image/ab67616d0000b2738120b699051090a773259a6b\n",
      "\n",
      "track    : 52 Bars\n",
      "audio    : https://p.scdn.co/mp3-preview/e22b4861e8e6ccbc30c10655f209841678379d38?cid=aa6ca906c2504604ad3e5961dc921029\n",
      "cover art: https://i.scdn.co/image/ab67616d0000b273c5cab0ebb4a441e4d4d954df\n",
      "\n",
      "track    : On Top\n",
      "audio    : https://p.scdn.co/mp3-preview/2303a6cc5fc43524b0c9b2cfd0941ed6fa54e24e?cid=aa6ca906c2504604ad3e5961dc921029\n",
      "cover art: https://i.scdn.co/image/ab67616d0000b273865c8db3cbe7293861942aa2\n",
      "\n",
      "track    : White Brown Black\n",
      "audio    : N/A\n",
      "cover art: https://i.scdn.co/image/ab67616d0000b27358c9caea7e001cc0a2819bcf\n",
      "\n",
      "track    : Take It Easy\n",
      "audio    : https://p.scdn.co/mp3-preview/bfbda247d1bd7f91404e59d44cc65b2bccc33e2c?cid=aa6ca906c2504604ad3e5961dc921029\n",
      "cover art: https://i.scdn.co/image/ab67616d0000b273c5cab0ebb4a441e4d4d954df\n",
      "\n",
      "track    : Gangsta\n",
      "audio    : https://p.scdn.co/mp3-preview/a2dec1e3a1c5ea31c5af12debb31babfcfa9d922?cid=aa6ca906c2504604ad3e5961dc921029\n",
      "cover art: https://i.scdn.co/image/ab67616d0000b273dd901ebb941ee763eba5620b\n",
      "\n",
      "track    : Yeah Naah\n",
      "audio    : https://p.scdn.co/mp3-preview/5fb58e5a698e47b47bd1be6a41e510ac8f26f11e?cid=aa6ca906c2504604ad3e5961dc921029\n",
      "cover art: https://i.scdn.co/image/ab67616d0000b273c5cab0ebb4a441e4d4d954df\n",
      "\n",
      "track    : Fallin Apart\n",
      "audio    : https://p.scdn.co/mp3-preview/3ad7660a0aad301615b938638efbc5568691562a?cid=aa6ca906c2504604ad3e5961dc921029\n",
      "cover art: https://i.scdn.co/image/ab67616d0000b273c5cab0ebb4a441e4d4d954df\n",
      "\n",
      "track    : Ykwim\n",
      "audio    : https://p.scdn.co/mp3-preview/b0abfd4694a5bcf96924af3f5c508bacbbe3bd78?cid=aa6ca906c2504604ad3e5961dc921029\n",
      "cover art: https://i.scdn.co/image/ab67616d0000b2737162dc7fbd69d82805a2aab1\n",
      "\n",
      "track    : Wytb\n",
      "audio    : https://p.scdn.co/mp3-preview/3ad8670365909e79a467b43308f0408d198878a8?cid=aa6ca906c2504604ad3e5961dc921029\n",
      "cover art: https://i.scdn.co/image/ab67616d0000b2732d9a9bab833e97a9aa82f008\n",
      "\n"
     ]
    }
   ],
   "source": [
    "import spotipy\n",
    "from spotipy.oauth2 import SpotifyClientCredentials\n",
    "\n",
    "artist_uri = 'spotify:artist:6DARBhWbfcS9E4yJzcliqQ'\n",
    "spotify = spotipy.Spotify(client_credentials_manager=SpotifyClientCredentials(client_id='aa6ca906c2504604ad3e5961dc921029', client_secret='6a397aa6bb2d41c999f45d67e6785ca3'))\n",
    "results = spotify.artist_top_tracks(artist_uri)\n",
    "\n",
    "for track in results['tracks'][:10]:\n",
    "    print('track    : ' + track['name'])\n",
    "    if track['preview_url'] is not None:\n",
    "        print('audio    : ' + track['preview_url'])\n",
    "    else:\n",
    "        print('audio    : N/A')\n",
    "    print('cover art: ' + track['album']['images'][0]['url'])\n",
    "    print()\n"
   ]
  },
  {
   "cell_type": "code",
   "execution_count": null,
   "id": "31678e06",
   "metadata": {},
   "outputs": [],
   "source": []
  }
 ],
 "metadata": {
  "kernelspec": {
   "display_name": "Python 3 (ipykernel)",
   "language": "python",
   "name": "python3"
  },
  "language_info": {
   "codemirror_mode": {
    "name": "ipython",
    "version": 3
   },
   "file_extension": ".py",
   "mimetype": "text/x-python",
   "name": "python",
   "nbconvert_exporter": "python",
   "pygments_lexer": "ipython3",
   "version": "3.11.1"
  }
 },
 "nbformat": 4,
 "nbformat_minor": 5
}
